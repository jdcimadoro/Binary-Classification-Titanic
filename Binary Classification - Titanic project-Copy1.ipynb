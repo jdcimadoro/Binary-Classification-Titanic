{
 "cells": [
  {
   "cell_type": "markdown",
   "metadata": {},
   "source": [
    "# Binary Classification - Titanic Project"
   ]
  },
  {
   "cell_type": "markdown",
   "metadata": {},
   "source": [
    "### Loading packages and train/dev data."
   ]
  },
  {
   "cell_type": "code",
   "execution_count": 1,
   "metadata": {},
   "outputs": [],
   "source": [
    "# Basic packages\n",
    "import numpy as np # linear algebra.\n",
    "import pandas as pd # data processing, CSV file I/O.\n",
    "import matplotlib.pyplot as plt #Graphic tools.\n",
    "# So we avoid creating popup windows:\n",
    "%matplotlib inline\n",
    "import seaborn as sns #Data visualization tools.\n",
    "# Using a Jupyter dark theme.\n",
    "!jt -t chesterish -T -N -kl"
   ]
  },
  {
   "cell_type": "code",
   "execution_count": 2,
   "metadata": {},
   "outputs": [],
   "source": [
    "# In this project, train and test files comes in separate .csv files.\n",
    "\n",
    "# Loading train data:\n",
    "\n",
    "# Indicating the filepath from my Github.\n",
    "\n",
    "\n",
    "file_path_train = \"https://raw.githubusercontent.com/jdcimadoro/Binary-Classification-Titanic/main/TitanicData/train.csv\"\n",
    "# Converting it to a Pandas DataFrame.\n",
    "df_train = pd.read_csv(file_path_train)\n",
    "# Show first 5 rows to check that it's ok.\n",
    "# df_train.head()\n",
    "# Print dataset information.\n",
    "# df_train.info()"
   ]
  },
  {
   "cell_type": "code",
   "execution_count": 3,
   "metadata": {},
   "outputs": [],
   "source": [
    "# Loading dev data:\n",
    "\n",
    "# Indicating the filepath from my Github.\n",
    "file_path_test = \"https://raw.githubusercontent.com/jdcimadoro/Binary-Classification-Titanic/main/TitanicData/test.csv\"\n",
    "# Converting it to a Pandas DataFrame.\n",
    "df_test = pd.read_csv(file_path_test)\n",
    "# Show first 5 rows to check that it's ok.\n",
    "# df_dev.head()\n",
    "# Print dataset information.\n",
    "# df_test.info()"
   ]
  },
  {
   "cell_type": "markdown",
   "metadata": {},
   "source": [
    "### (1) Understand the problem statement, determine the type.\n",
    "#### In the Titanic project, I want to build a predictive model that answers the question:\n",
    "#### ¿What sorts of people were more likely to survive?\n",
    "#### As we will try to predict the \"survival\" column, being 1 or 0, it is clearly a classification type problem."
   ]
  },
  {
   "cell_type": "code",
   "execution_count": 4,
   "metadata": {},
   "outputs": [],
   "source": [
    "# Chequing imbalance of data.\n",
    "# df_train.Survived.value_counts()\n",
    "# 0 - 549\n",
    "# 1 - 342\n",
    "# It's barely unbalanced, but i will continue thinking it's ok. In a second step, \n",
    "# if the models doesn't work properly, i will try resampling techniques."
   ]
  },
  {
   "cell_type": "markdown",
   "metadata": {},
   "source": [
    "### (2) Selecting features that I will consider."
   ]
  },
  {
   "cell_type": "code",
   "execution_count": 5,
   "metadata": {},
   "outputs": [
    {
     "name": "stdout",
     "output_type": "stream",
     "text": [
      "Index(['PassengerId', 'Survived', 'Pclass', 'Name', 'Sex', 'Age', 'SibSp',\n",
      "       'Parch', 'Ticket', 'Fare', 'Cabin', 'Embarked'],\n",
      "      dtype='object')\n"
     ]
    }
   ],
   "source": [
    "# Lets list the default avaiable columns.\n",
    "print(df_train.columns)"
   ]
  },
  {
   "cell_type": "code",
   "execution_count": 6,
   "metadata": {},
   "outputs": [
    {
     "name": "stdout",
     "output_type": "stream",
     "text": [
      "There are 891 unique Name values out of 891 values, there are 0 NA values\n"
     ]
    }
   ],
   "source": [
    "# \"Name\" feature is difficult for processing because it has all unique values.\n",
    "Name_unique = df_train.Name.unique().size\n",
    "Name_total = df_train.Name.size\n",
    "Name_na = df_train.Name.isna().sum()\n",
    "\n",
    "print(\"There are %i unique Name values out of %i values, there are %i NA values\" % (Name_unique, Name_total, Name_na))\n",
    "# 891 unique values of 891 values. So I will consider as a hypotesis that \"name\" is not a critical feature.\n",
    "# If the model doesn't work properly, \"name\" could be proccesed using text-based approachs."
   ]
  },
  {
   "cell_type": "code",
   "execution_count": 7,
   "metadata": {},
   "outputs": [
    {
     "name": "stdout",
     "output_type": "stream",
     "text": [
      "There are 148 unique Cabin values out of 891 values, there are 687 NA values\n"
     ]
    }
   ],
   "source": [
    "# \"Cabin\" feature has a lot of null values and several unique values.\n",
    "\n",
    "Cabin_unique = df_train.Cabin.unique().size\n",
    "Cabin_total = df_train.Cabin.size\n",
    "Cabin_na = df_train.Cabin.isna().sum()\n",
    "\n",
    "print(\"There are %i unique Cabin values out of %i values, there are %i NA values\" % (Cabin_unique, Cabin_total, Cabin_na))\n",
    "\n",
    "# So I will consider as a hypotesis that \"Cabin\" is not a critical feature.\n",
    "# If the model doesn't work properly, \"Cabin\" could be imputed, but it is difficult because of the huge proportion of NA values."
   ]
  },
  {
   "cell_type": "code",
   "execution_count": 8,
   "metadata": {},
   "outputs": [
    {
     "name": "stdout",
     "output_type": "stream",
     "text": [
      "There are 681 unique Ticket values out of 891 values, there are 0 NA values\n"
     ]
    }
   ],
   "source": [
    "# \"Ticket\" feature has several repeated values, but it should be unique for each passenger.\n",
    "# It clearly indicates gross irregularities in the Ticket sell system.\n",
    "# So I will consider as a hypotesis that \"Ticket\" feature can be dropped.\n",
    "\n",
    "Ticket_unique = df_train.Ticket.unique().size\n",
    "Ticket_total = df_train.Ticket.size\n",
    "Ticket_na = df_train.Ticket.isna().sum()\n",
    "\n",
    "print(\"There are %i unique Ticket values out of %i values, there are %i NA values\" % (Ticket_unique, Ticket_total, Ticket_na))"
   ]
  },
  {
   "cell_type": "code",
   "execution_count": 9,
   "metadata": {},
   "outputs": [
    {
     "name": "stdout",
     "output_type": "stream",
     "text": [
      "There are 891 unique PassengerId values out of 891 values, there are 0 NA values\n"
     ]
    }
   ],
   "source": [
    "# \"PassengerId\" could indicate relationship between passengers, but we have the column \"SibSp\" (spouse &/or sibling) designed for that.\n",
    "# So I will consider as a hypotesis that \"PassengerId\" feature can be dropped.\n",
    "\n",
    "PassengerId_unique = df_train.PassengerId.unique().size\n",
    "PassengerId_total = df_train.PassengerId.size\n",
    "PassengerId_na = df_train.PassengerId.isna().sum()\n",
    "\n",
    "print(\"There are %i unique PassengerId values out of %i values, there are %i NA values\" % (PassengerId_unique, PassengerId_total, PassengerId_na))\n",
    "\n",
    "# However, I need the \"PassengerId\" test column for sending predictions to the leaderboard, so I will store it:\n",
    "test_PassengerId = df_test.PassengerId"
   ]
  },
  {
   "cell_type": "code",
   "execution_count": 10,
   "metadata": {},
   "outputs": [],
   "source": [
    "# Creating a copy of train and test(dev) DataFrames, and a list with both of them.\n",
    "df_train_sel = df_train.copy()\n",
    "df_test_sel = df_test.copy()\n",
    "all_df = [df_train_sel, df_test_sel]\n",
    "\n",
    "# Declare the columns to drop.\n",
    "columns_to_drop = ['Name','Ticket','Cabin','PassengerId']"
   ]
  },
  {
   "cell_type": "code",
   "execution_count": 11,
   "metadata": {},
   "outputs": [],
   "source": [
    "# Drop the columns.\n",
    "for dataset in all_df:\n",
    "    dataset.drop(columns_to_drop,inplace=True,axis=1)"
   ]
  },
  {
   "cell_type": "markdown",
   "metadata": {},
   "source": [
    "### (3) Thumb rules: Non null values and All Data in Numeric Format"
   ]
  },
  {
   "cell_type": "code",
   "execution_count": 12,
   "metadata": {},
   "outputs": [],
   "source": [
    "# I will use .value_counts method for identifying trouble values, \n",
    "# and the method .isnull().count() for counting null values"
   ]
  },
  {
   "cell_type": "code",
   "execution_count": 13,
   "metadata": {},
   "outputs": [],
   "source": [
    "# Lets start with \"Embarked\" feature.\n",
    "\n",
    "# print(\"There are %i null values out of %i values in train\" \n",
    "#      % (df_train_sel.Embarked.isna().sum(),df_train_sel.Embarked.count()))\n",
    "# print(\"There are %i null values out of %i values in test\" \n",
    "#      % (df_test_sel.Embarked.isna().sum(),df_test_sel.Embarked.count()))\n",
    "# I have only 2 NA values out of 889 in train data, and 0 NA values out of 418 in test data,\n",
    "# so i will use simple imputation. Lets describe the column to see most frequent values.\n",
    "\n",
    "# df_train_sel.Embarked.describe()\n",
    "# df_test_sel.Embarked.describe()\n",
    "\n",
    "# So I replace the null values in Embarked column with the most frequent value \"S\".\n",
    "# Note that we are modifyin both the \"train\" and the \"test(dev)\" data.\n",
    "for dataset in all_df:\n",
    "    dataset.Embarked.fillna('S')\n",
    "    \n",
    "# Once I did this, let's map the values to numbers using a dict:\n",
    "EmbarkedMap = {'S':0,'C':1,'Q':2}\n",
    "# Applying the map\n",
    "for dataset in all_df:\n",
    "    dataset.Embarked = dataset.Embarked.map(EmbarkedMap) #mapping in three numerical values"
   ]
  },
  {
   "cell_type": "code",
   "execution_count": 14,
   "metadata": {},
   "outputs": [],
   "source": [
    "# Lets fix \"Sex\" feature.\n",
    "[df.Sex.describe() for df in all_df]\n",
    "# Here, it has 2 unique values, \"male\" and \"female\". I will convert this column by using a map.\n",
    "# Convert this column by using a map.\n",
    "genderMap = {\"male\":0,\"female\":1} #The genderMap is a dict.\n",
    "\n",
    "# Applying the map\n",
    "for dataset in all_df:\n",
    "    dataset.Sex = dataset.Sex.map(genderMap) #Using the map function"
   ]
  },
  {
   "cell_type": "code",
   "execution_count": 15,
   "metadata": {},
   "outputs": [
    {
     "data": {
      "image/png": "[encoded data removed]",
      "text/plain": [
       "<Figure size 288x360 with 2 Axes>"
      ]
     },
     "metadata": {
      "needs_background": "light"
     },
     "output_type": "display_data"
    }
   ],
   "source": [
    "# Lets see what is happening with the \"Age\" feature.\n",
    "# [df.Age.describe() for df in all_df]\n",
    "# It has variuos missing values, so imputing using the mean is gross.\n",
    "# Lets see correlation:\n",
    "plt.figure(figsize=(4, 5))\n",
    "heatmap = sns.heatmap(df_train_sel.corr()[['Age']].drop('Age').sort_values(by='Age', ascending=False), vmin=-1, vmax=1, annot=True)\n",
    "heatmap.set_title('Features Correlating with Age', fontdict={'fontsize':18}, pad=16);"
   ]
  },
  {
   "cell_type": "code",
   "execution_count": 16,
   "metadata": {},
   "outputs": [],
   "source": [
    "# Also, there exist correlation with other data columns, so I will use KNNImputer in this case.\n",
    "# I need to remove \"Survived\" column for using df_train with the model.\n",
    "# If not, it will stuck with differences in dimension between train and test sets.\n",
    "imputer_training_columns=df_train_sel.loc[:,['Pclass', 'Sex', 'Age', 'SibSp', 'Parch', 'Fare','Embarked']]\n",
    "# Import and declare the model.\n",
    "from sklearn.impute import KNNImputer\n",
    "my_imputer = KNNImputer()\n",
    "# Applying the Imputer.\n",
    "df_train_imp = pd.DataFrame(my_imputer.fit_transform(X=imputer_training_columns,y=None))\n",
    "df_test_imp = pd.DataFrame(my_imputer.transform(X=df_test_sel))\n",
    "# Note that I used \"fit_transform\" in train data, but \"transform\" in test data. \n",
    "# It is to avoid target leakage.\n",
    "# Imputation use to remove column names, lets put them back:\n",
    "df_train_imp.columns = ['Pclass', 'Sex', 'Age', 'SibSp', 'Parch', 'Fare','Embarked']\n",
    "df_test_imp.columns = df_test_sel.columns\n",
    "# Add previously dropped \"Survived\" column from train set.\n",
    "df_train_imp['Survived']=df_train_sel['Survived']"
   ]
  },
  {
   "cell_type": "code",
   "execution_count": 19,
   "metadata": {},
   "outputs": [
    {
     "name": "stdout",
     "output_type": "stream",
     "text": [
      "<class 'pandas.core.frame.DataFrame'>\n",
      "RangeIndex: 891 entries, 0 to 890\n",
      "Data columns (total 8 columns):\n",
      " #   Column    Non-Null Count  Dtype  \n",
      "---  ------    --------------  -----  \n",
      " 0   Pclass    891 non-null    float64\n",
      " 1   Sex       891 non-null    float64\n",
      " 2   Age       891 non-null    float64\n",
      " 3   SibSp     891 non-null    float64\n",
      " 4   Parch     891 non-null    float64\n",
      " 5   Fare      891 non-null    float64\n",
      " 6   Embarked  891 non-null    float64\n",
      " 7   Survived  891 non-null    int64  \n",
      "dtypes: float64(7), int64(1)\n",
      "memory usage: 55.8 KB\n"
     ]
    }
   ],
   "source": [
    "# Finally, I have cleaned all the data. Check:\n",
    "df_train_imp.info()"
   ]
  },
  {
   "cell_type": "markdown",
   "metadata": {},
   "source": [
    "# (4) Selecting Features and Target, select the model"
   ]
  },
  {
   "cell_type": "code",
   "execution_count": 43,
   "metadata": {},
   "outputs": [],
   "source": [
    "# First, I will select the target column. In this case is \"Survived\", so lets set X and y according to it.\n",
    "Xdata = df_train_imp.drop(['Survived'], axis=1)\n",
    "ydata = df_train_imp.Survived\n",
    "\n",
    "# I will do the same for the \"test\" dataframe.\n",
    "X_test = df_test_imp"
   ]
  },
  {
   "cell_type": "code",
   "execution_count": 91,
   "metadata": {},
   "outputs": [],
   "source": [
    "from sklearn.model_selection import train_test_split\n",
    "X_train, X_valid, y_train, y_valid = train_test_split(Xdata,ydata,train_size=0.8,test_size=0.2,random_state=1)"
   ]
  },
  {
   "cell_type": "code",
   "execution_count": 78,
   "metadata": {},
   "outputs": [
    {
     "name": "stdout",
     "output_type": "stream",
     "text": [
      "Collecting xgboost\n",
      "  Downloading xgboost-1.3.1-py3-none-win_amd64.whl (95.2 MB)\n",
      "Requirement already satisfied: scipy in c:\\programdata\\anaconda3\\lib\\site-packages (from xgboost) (1.5.2)\n",
      "Requirement already satisfied: numpy in c:\\programdata\\anaconda3\\lib\\site-packages (from xgboost) (1.19.2)\n",
      "Installing collected packages: xgboost\n",
      "Successfully installed xgboost-1.3.1\n"
     ]
    }
   ],
   "source": [
    "!pip3 install xgboost"
   ]
  },
  {
   "cell_type": "code",
   "execution_count": 92,
   "metadata": {},
   "outputs": [
    {
     "name": "stdout",
     "output_type": "stream",
     "text": [
      "Logistic regression score        80.760000\n",
      "Support Vector Machine score     69.240000\n",
      "Gaussian Naive Bayes score       79.490000\n",
      "Ridge Classifier score           80.200000\n",
      "K Nearest Neighbors Classifier   79.630000\n",
      "Decision Tree Classifier         98.740000\n",
      "Random Forest Classifier         98.740000\n",
      "XGBoost Classifier               79.630000\n"
     ]
    }
   ],
   "source": [
    "#Evaluate several models\n",
    "\n",
    "#1 LogisticRegression\n",
    "\n",
    "from sklearn.linear_model import LogisticRegression # Importing the model\n",
    "clf_lr = LogisticRegression(random_state = 0)\n",
    "clf_lr.fit(X_train, y_train)\n",
    "\n",
    "acc_lr = round(clf_lr.score(X_train,y_train)*100, 2) #Calculating the model score.\n",
    "print(\"Logistic regression score        %f\" %(acc_lr))\n",
    "\n",
    "#2 Support Vector Machine SVM\n",
    "\n",
    "from sklearn.svm import SVC\n",
    "clf_svm = SVC()\n",
    "clf_svm.fit(X_train, y_train)\n",
    "\n",
    "acc_svm = round(clf_svm.score(X_train,y_train)*100, 2)\n",
    "print(\"Support Vector Machine score     %f\" %(acc_svm))\n",
    "\n",
    "#3 Gaussian Naive Bayes\n",
    "\n",
    "from sklearn.naive_bayes import GaussianNB\n",
    "clf_gnb = GaussianNB()\n",
    "clf_gnb.fit(X_train,y_train)\n",
    "\n",
    "acc_gnb = round(clf_gnb.score(X_train,y_train)*100,2)\n",
    "print(\"Gaussian Naive Bayes score       %f\" %(acc_gnb))\n",
    "\n",
    "#4 Ridge Classifier\n",
    "\n",
    "from sklearn.linear_model import RidgeClassifier\n",
    "clf_rc = RidgeClassifier()\n",
    "clf_rc.fit(X_train, y_train)\n",
    "\n",
    "acc_rc = round (clf_rc.score(X_train,y_train)*100, 2)\n",
    "print(\"Ridge Classifier score           %f\" %(acc_rc))\n",
    "\n",
    "#5 K Nearest Neighbors Classifier (KNN)\n",
    "\n",
    "from sklearn.neighbors import KNeighborsClassifier\n",
    "clf_knn = KNeighborsClassifier(n_neighbors=5)\n",
    "clf_knn.fit(X_train,y_train)\n",
    "\n",
    "acc_knn = round (clf_knn.score(X_train,y_train)*100, 2)\n",
    "print(\"K Nearest Neighbors Classifier   %f\" %(acc_knn))\n",
    "\n",
    "#6 Decision Tree\n",
    "from sklearn.tree import DecisionTreeClassifier\n",
    "clf_dt = DecisionTreeClassifier()\n",
    "clf_dt.fit(X_train,y_train)\n",
    "\n",
    "acc_dt = round (clf_dt.score(X_train,y_train)*100, 2)\n",
    "print(\"Decision Tree Classifier         %f\" %(acc_dt))\n",
    "\n",
    "#7 Random Forest\n",
    "from sklearn.ensemble import RandomForestClassifier\n",
    "clf_rf = RandomForestClassifier()\n",
    "clf_rf.fit(X_train,y_train)\n",
    "\n",
    "acc_rf = round (clf_dt.score(X_train,y_train)*100, 2)\n",
    "print(\"Random Forest Classifier         %f\" %(acc_rf))\n",
    "\n",
    "#8 XGBoost\n",
    "from xgboost import XGBClassifier\n",
    "clf_xgb = XGBClassifier(use_label_encoder=False,eval_metric='error')\n",
    "clf_xgb.fit(X_train,y_train)\n",
    "\n",
    "acc_xgb = round (clf_xgb.score(X_train,y_train)*100, 2)\n",
    "print(\"XGBoost Classifier               %f\" %(acc_knn))"
   ]
  },
  {
   "cell_type": "markdown",
   "metadata": {},
   "source": [
    "# (4) Model selection/validation"
   ]
  },
  {
   "cell_type": "code",
   "execution_count": null,
   "metadata": {},
   "outputs": [],
   "source": [
    "# First I have to train the selected model with the full data.\n",
    "model_selected = RandomForestClassifier()\n",
    "model_selected.fit(Xdata,ydata)\n"
   ]
  },
  {
   "cell_type": "code",
   "execution_count": null,
   "metadata": {},
   "outputs": [],
   "source": [
    "# Then, I will send my predictions to the leaderboard.\n",
    "y_pred = model_selected.predict(X_test)\n",
    "\n",
    "output = pd.DataFrame({'PassengerId': test_PassengerId, 'Survived': y_pred})\n",
    "output.to_csv('my_submission.csv', index=False)"
   ]
  }
 ],
 "metadata": {
  "kernelspec": {
   "display_name": "Python 3",
   "language": "python",
   "name": "python3"
  },
  "language_info": {
   "codemirror_mode": {
    "name": "ipython",
    "version": 3
   },
   "file_extension": ".py",
   "mimetype": "text/x-python",
   "name": "python",
   "nbconvert_exporter": "python",
   "pygments_lexer": "ipython3",
   "version": "3.8.5"
  }
 },
 "nbformat": 4,
 "nbformat_minor": 4
}
